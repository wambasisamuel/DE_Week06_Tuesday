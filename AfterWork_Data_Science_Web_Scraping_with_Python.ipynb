{
  "nbformat": 4,
  "nbformat_minor": 0,
  "metadata": {
    "colab": {
      "provenance": []
    },
    "kernelspec": {
      "name": "python3",
      "display_name": "Python 3"
    }
  },
  "cells": [
    {
      "cell_type": "markdown",
      "metadata": {
        "id": "0rOdcI2Nzhky"
      },
      "source": [
        "# <font color='#2F4F4F'>AfterWork Data Science: Web Scraping with Python</font>"
      ]
    },
    {
      "cell_type": "markdown",
      "metadata": {
        "id": "Tcso2rJCNAGq"
      },
      "source": [
        "## <font color='#2F4F4F'>Prerequisites</font>"
      ]
    },
    {
      "cell_type": "code",
      "metadata": {
        "id": "QSHljMZTNCRI"
      },
      "source": [
        "# We first import the required libraries\n",
        "# ---\n",
        "#\n",
        "import pandas as pd             # library for data manupation\n",
        "import requests                 # library for fetching a web page \n",
        "from bs4 import BeautifulSoup   # library for extrating contents from a webpage "
      ],
      "execution_count": 1,
      "outputs": []
    },
    {
      "cell_type": "markdown",
      "metadata": {
        "id": "CRmt1rRHgZRG"
      },
      "source": [
        "## <font color='#2F4F4F'>Step 1: Obtaining our Data</font>"
      ]
    },
    {
      "cell_type": "code",
      "metadata": {
        "id": "cM5TKD-P1h7Z",
        "colab": {
          "base_uri": "https://localhost:8080/"
        },
        "outputId": "d06012bf-6e5f-4cbb-e92f-7063bd25c8df"
      },
      "source": [
        "# PigiaMe: https://www.pigiame.co.ke/it-software-jobs\n",
        "# ---\n",
        "#\n",
        "pigia_me = requests.get('https://www.pigiame.co.ke/it-software-jobs')\n",
        "pigia_me"
      ],
      "execution_count": 2,
      "outputs": [
        {
          "output_type": "execute_result",
          "data": {
            "text/plain": [
              "<Response [200]>"
            ]
          },
          "metadata": {},
          "execution_count": 2
        }
      ]
    },
    {
      "cell_type": "code",
      "metadata": {
        "id": "OfUvfxrD1nQC",
        "colab": {
          "base_uri": "https://localhost:8080/"
        },
        "outputId": "47346eeb-3d3a-45f6-cec4-13d5aa757042"
      },
      "source": [
        "# MyJobMag: https://www.myjobmag.co.ke/jobs-by-field/information-technology\n",
        "# ---\n",
        "#\n",
        "my_job_mag = requests.get('https://www.myjobmag.co.ke/jobs-by-field/information-technology')\n",
        "my_job_mag"
      ],
      "execution_count": 3,
      "outputs": [
        {
          "output_type": "execute_result",
          "data": {
            "text/plain": [
              "<Response [200]>"
            ]
          },
          "metadata": {},
          "execution_count": 3
        }
      ]
    },
    {
      "cell_type": "code",
      "metadata": {
        "id": "psWrYhRUQDJC",
        "colab": {
          "base_uri": "https://localhost:8080/"
        },
        "outputId": "45ee3a11-73e3-4934-b1e6-bbf0f46a269e"
      },
      "source": [
        "# KenyanJob: https://www.kenyajob.com/job-vacancies-search-kenya?f%5B0%5D=im_field_offre_secteur%3A133\n",
        "# ---\n",
        "#\n",
        "kenyan_job = requests.get('https://www.kenyajob.com/job-vacancies-search-kenya?f%5B0%5D=im_field_offre_secteur%3A133')\n",
        "kenyan_job"
      ],
      "execution_count": 4,
      "outputs": [
        {
          "output_type": "execute_result",
          "data": {
            "text/plain": [
              "<Response [200]>"
            ]
          },
          "metadata": {},
          "execution_count": 4
        }
      ]
    },
    {
      "cell_type": "markdown",
      "metadata": {
        "id": "h7iRb8U8hHNw"
      },
      "source": [
        "## <font color='#2F4F4F'>Step 2: Parsing</font>"
      ]
    },
    {
      "cell_type": "code",
      "metadata": {
        "id": "AXWSK1kD2oeN"
      },
      "source": [
        "# Parsing our document: pigia_me\n",
        "# ---\n",
        "# \n",
        "pigia_me_soup = BeautifulSoup(pigia_me.text, \"html.parser\")"
      ],
      "execution_count": 77,
      "outputs": []
    },
    {
      "cell_type": "code",
      "metadata": {
        "id": "lrH9mgR82pzg"
      },
      "source": [
        "# Parsing our document: my_job_mag\n",
        "# ---\n",
        "#  \n",
        "my_job_mag_soup = BeautifulSoup(my_job_mag.text, \"html.parser\")"
      ],
      "execution_count": 75,
      "outputs": []
    },
    {
      "cell_type": "code",
      "metadata": {
        "id": "O0x-Wz03QP5O"
      },
      "source": [
        "# Parsing our document: kenyan_job\n",
        "# ---\n",
        "# \n",
        "kenya_job_soup = BeautifulSoup(kenyan_job.content, \"html.parser\")"
      ],
      "execution_count": 76,
      "outputs": []
    },
    {
      "cell_type": "markdown",
      "metadata": {
        "id": "_OxuOAIXhPl5"
      },
      "source": [
        "## <font color='#2F4F4F'>Step 3: Extracting Required Elements</font>"
      ]
    },
    {
      "cell_type": "code",
      "metadata": {
        "id": "e2p147_LICKn"
      },
      "source": [
        "# 1. Extracting job titles and links: pigia me\n",
        "# ---\n",
        "# \n",
        "# Target tags: \n",
        "# <div> tags contained in <div class=\"listing-cards\">\n",
        "\n",
        "#pigia_me_tags = pigia_me_soup.find('div', attrs={'class':'listings-cards__list'})\n",
        "pigia_me_tags = pigia_me_soup.find('div', attrs={'class':'search__content'})\n",
        "title_tags = pigia_me_tags.find_all('div', attrs={'class':'listing-card__header__title'})\n",
        "link_tags = pigia_me_tags.find_all('a', attrs={'class':'listing-card__inner', 'data-t-listing_context':'search'}, href=True)\n",
        "pigia_me_titles = [tag.text.strip() for tag in title_tags]\n",
        "pigia_me_links = [tag['href'].strip() for tag in link_tags]\n",
        "#links,titles\n",
        "#link_tags[0]['href']"
      ],
      "execution_count": 78,
      "outputs": []
    },
    {
      "cell_type": "code",
      "metadata": {
        "id": "NNLbrng_3QfA"
      },
      "source": [
        "# 2. Extracting job titles: my_job_mag\n",
        "# ---\n",
        "# \n",
        "# Target tags: \n",
        "# <a> and <li> tags contained in <ul class=\"job-list\">\n",
        "\n",
        "myjob_mag_tags = my_job_mag_soup.find('ul', attrs={'class':'job-list'})\n",
        "title_tags = myjob_mag_tags.find_all('a') #, attrs={'class':'listing-card__header__title'})\n",
        "link_tags = myjob_mag_tags.find_all('a', href=True) #, attrs={'class':'listing-card__inner', 'data-t-listing_context':'search'}, href=True)\n",
        "my_job_mag_titles = [tag.text.strip() for tag in title_tags]\n",
        "my_job_mag_links = [\"https://www.myjobmag.co.ke\" + tag['href'].strip() for tag in link_tags]\n",
        "#links,titles"
      ],
      "execution_count": 79,
      "outputs": []
    },
    {
      "cell_type": "code",
      "metadata": {
        "id": "I0fQKn63QV0R"
      },
      "source": [
        "# 3. Extracting job titles: kenya_job\n",
        "# ---\n",
        "#\n",
        "# Target tags: \n",
        "# <div> and <h5> tags contained in <div class=\"jobsearch-search-results-box\">\n",
        "\n",
        "kenya_job_tags = kenya_job_soup.find('div', attrs={'id':'jobsearch-search-results-box'})\n",
        "title_tags = kenya_job_tags.find_all('h5')\n",
        "link_tags = kenya_job_tags.find_all('div', attrs={'class':'job-description-wrapper'}) #, attrs={'class':'listing-card__inner', 'data-t-listing_context':'search'}, href=True)\n",
        "\n",
        "kenya_job_titles = [tag.text.strip() for tag in title_tags]\n",
        "kenya_job_links = [tag.get('data-href') for tag in link_tags]\n",
        "#titles,links"
      ],
      "execution_count": 80,
      "outputs": []
    },
    {
      "cell_type": "markdown",
      "metadata": {
        "id": "7ePXABAihaKn"
      },
      "source": [
        "## <font color='#2F4F4F'>Step 4: Saving our Data</font>"
      ]
    },
    {
      "cell_type": "code",
      "metadata": {
        "id": "fsG9pQXk5f8y",
        "colab": {
          "base_uri": "https://localhost:8080/",
          "height": 2015
        },
        "outputId": "e2fa5e55-a668-47f5-8a3a-2e7ab6e6a9af"
      },
      "source": [
        "# Saving the scraped contents in a dataframe and preview our data\n",
        "# ---\n",
        "#\n",
        "# Pigia me  dtaframe\n",
        "df_pigia_me = pd.DataFrame({'job_title':pigia_me_titles, 'job_link':pigia_me_links})\n",
        "df_my_job_mag = pd.DataFrame({'job_title':my_job_mag_titles, 'job_link':my_job_mag_links})\n",
        "df_kenya_job = pd.DataFrame({'job_title':kenya_job_titles, 'job_link':kenya_job_links})\n",
        "\n",
        "# Concatenate the dataframes\n",
        "final_df = pd.concat([df_pigia_me, df_my_job_mag, df_kenya_job], axis=0)\n",
        "final_df"
      ],
      "execution_count": 87,
      "outputs": [
        {
          "output_type": "execute_result",
          "data": {
            "text/plain": [
              "                     job_title  \\\n",
              "0   Assistant IT Administrator   \n",
              "1           Frontend Developer   \n",
              "2                  CRM Enginee   \n",
              "3           Analyst Programmer   \n",
              "4        Senior Game Developer   \n",
              "..                         ...   \n",
              "20       DevOps Engineer (M/F)   \n",
              "21      DOTNET Developer (M/F)   \n",
              "22         IOS Developer (M/F)   \n",
              "23        JAVA Developer (M/F)   \n",
              "24    JAVA JEE Developer (M/F)   \n",
              "\n",
              "                                             job_link  \n",
              "0   https://www.pigiame.co.ke/listings/assistant-i...  \n",
              "1   https://www.pigiame.co.ke/listings/frontend-de...  \n",
              "2   https://www.pigiame.co.ke/listings/crm-enginee...  \n",
              "3   https://www.pigiame.co.ke/listings/analyst-pro...  \n",
              "4   https://www.pigiame.co.ke/listings/senior-game...  \n",
              "..                                                ...  \n",
              "20  https://www.kenyajob.com/job-vacancies-kenya/d...  \n",
              "21  https://www.kenyajob.com/job-vacancies-kenya/d...  \n",
              "22  https://www.kenyajob.com/job-vacancies-kenya/i...  \n",
              "23  https://www.kenyajob.com/job-vacancies-kenya/j...  \n",
              "24  https://www.kenyajob.com/job-vacancies-kenya/j...  \n",
              "\n",
              "[71 rows x 2 columns]"
            ],
            "text/html": [
              "\n",
              "  <div id=\"df-26416e40-18ea-4641-bbd3-d0d2dcf372b7\">\n",
              "    <div class=\"colab-df-container\">\n",
              "      <div>\n",
              "<style scoped>\n",
              "    .dataframe tbody tr th:only-of-type {\n",
              "        vertical-align: middle;\n",
              "    }\n",
              "\n",
              "    .dataframe tbody tr th {\n",
              "        vertical-align: top;\n",
              "    }\n",
              "\n",
              "    .dataframe thead th {\n",
              "        text-align: right;\n",
              "    }\n",
              "</style>\n",
              "<table border=\"1\" class=\"dataframe\">\n",
              "  <thead>\n",
              "    <tr style=\"text-align: right;\">\n",
              "      <th></th>\n",
              "      <th>job_title</th>\n",
              "      <th>job_link</th>\n",
              "    </tr>\n",
              "  </thead>\n",
              "  <tbody>\n",
              "    <tr>\n",
              "      <th>0</th>\n",
              "      <td>Assistant IT Administrator</td>\n",
              "      <td>https://www.pigiame.co.ke/listings/assistant-i...</td>\n",
              "    </tr>\n",
              "    <tr>\n",
              "      <th>1</th>\n",
              "      <td>Frontend Developer</td>\n",
              "      <td>https://www.pigiame.co.ke/listings/frontend-de...</td>\n",
              "    </tr>\n",
              "    <tr>\n",
              "      <th>2</th>\n",
              "      <td>CRM Enginee</td>\n",
              "      <td>https://www.pigiame.co.ke/listings/crm-enginee...</td>\n",
              "    </tr>\n",
              "    <tr>\n",
              "      <th>3</th>\n",
              "      <td>Analyst Programmer</td>\n",
              "      <td>https://www.pigiame.co.ke/listings/analyst-pro...</td>\n",
              "    </tr>\n",
              "    <tr>\n",
              "      <th>4</th>\n",
              "      <td>Senior Game Developer</td>\n",
              "      <td>https://www.pigiame.co.ke/listings/senior-game...</td>\n",
              "    </tr>\n",
              "    <tr>\n",
              "      <th>...</th>\n",
              "      <td>...</td>\n",
              "      <td>...</td>\n",
              "    </tr>\n",
              "    <tr>\n",
              "      <th>20</th>\n",
              "      <td>DevOps Engineer (M/F)</td>\n",
              "      <td>https://www.kenyajob.com/job-vacancies-kenya/d...</td>\n",
              "    </tr>\n",
              "    <tr>\n",
              "      <th>21</th>\n",
              "      <td>DOTNET Developer (M/F)</td>\n",
              "      <td>https://www.kenyajob.com/job-vacancies-kenya/d...</td>\n",
              "    </tr>\n",
              "    <tr>\n",
              "      <th>22</th>\n",
              "      <td>IOS Developer (M/F)</td>\n",
              "      <td>https://www.kenyajob.com/job-vacancies-kenya/i...</td>\n",
              "    </tr>\n",
              "    <tr>\n",
              "      <th>23</th>\n",
              "      <td>JAVA Developer (M/F)</td>\n",
              "      <td>https://www.kenyajob.com/job-vacancies-kenya/j...</td>\n",
              "    </tr>\n",
              "    <tr>\n",
              "      <th>24</th>\n",
              "      <td>JAVA JEE Developer (M/F)</td>\n",
              "      <td>https://www.kenyajob.com/job-vacancies-kenya/j...</td>\n",
              "    </tr>\n",
              "  </tbody>\n",
              "</table>\n",
              "<p>71 rows × 2 columns</p>\n",
              "</div>\n",
              "      <button class=\"colab-df-convert\" onclick=\"convertToInteractive('df-26416e40-18ea-4641-bbd3-d0d2dcf372b7')\"\n",
              "              title=\"Convert this dataframe to an interactive table.\"\n",
              "              style=\"display:none;\">\n",
              "        \n",
              "  <svg xmlns=\"http://www.w3.org/2000/svg\" height=\"24px\"viewBox=\"0 0 24 24\"\n",
              "       width=\"24px\">\n",
              "    <path d=\"M0 0h24v24H0V0z\" fill=\"none\"/>\n",
              "    <path d=\"M18.56 5.44l.94 2.06.94-2.06 2.06-.94-2.06-.94-.94-2.06-.94 2.06-2.06.94zm-11 1L8.5 8.5l.94-2.06 2.06-.94-2.06-.94L8.5 2.5l-.94 2.06-2.06.94zm10 10l.94 2.06.94-2.06 2.06-.94-2.06-.94-.94-2.06-.94 2.06-2.06.94z\"/><path d=\"M17.41 7.96l-1.37-1.37c-.4-.4-.92-.59-1.43-.59-.52 0-1.04.2-1.43.59L10.3 9.45l-7.72 7.72c-.78.78-.78 2.05 0 2.83L4 21.41c.39.39.9.59 1.41.59.51 0 1.02-.2 1.41-.59l7.78-7.78 2.81-2.81c.8-.78.8-2.07 0-2.86zM5.41 20L4 18.59l7.72-7.72 1.47 1.35L5.41 20z\"/>\n",
              "  </svg>\n",
              "      </button>\n",
              "      \n",
              "  <style>\n",
              "    .colab-df-container {\n",
              "      display:flex;\n",
              "      flex-wrap:wrap;\n",
              "      gap: 12px;\n",
              "    }\n",
              "\n",
              "    .colab-df-convert {\n",
              "      background-color: #E8F0FE;\n",
              "      border: none;\n",
              "      border-radius: 50%;\n",
              "      cursor: pointer;\n",
              "      display: none;\n",
              "      fill: #1967D2;\n",
              "      height: 32px;\n",
              "      padding: 0 0 0 0;\n",
              "      width: 32px;\n",
              "    }\n",
              "\n",
              "    .colab-df-convert:hover {\n",
              "      background-color: #E2EBFA;\n",
              "      box-shadow: 0px 1px 2px rgba(60, 64, 67, 0.3), 0px 1px 3px 1px rgba(60, 64, 67, 0.15);\n",
              "      fill: #174EA6;\n",
              "    }\n",
              "\n",
              "    [theme=dark] .colab-df-convert {\n",
              "      background-color: #3B4455;\n",
              "      fill: #D2E3FC;\n",
              "    }\n",
              "\n",
              "    [theme=dark] .colab-df-convert:hover {\n",
              "      background-color: #434B5C;\n",
              "      box-shadow: 0px 1px 3px 1px rgba(0, 0, 0, 0.15);\n",
              "      filter: drop-shadow(0px 1px 2px rgba(0, 0, 0, 0.3));\n",
              "      fill: #FFFFFF;\n",
              "    }\n",
              "  </style>\n",
              "\n",
              "      <script>\n",
              "        const buttonEl =\n",
              "          document.querySelector('#df-26416e40-18ea-4641-bbd3-d0d2dcf372b7 button.colab-df-convert');\n",
              "        buttonEl.style.display =\n",
              "          google.colab.kernel.accessAllowed ? 'block' : 'none';\n",
              "\n",
              "        async function convertToInteractive(key) {\n",
              "          const element = document.querySelector('#df-26416e40-18ea-4641-bbd3-d0d2dcf372b7');\n",
              "          const dataTable =\n",
              "            await google.colab.kernel.invokeFunction('convertToInteractive',\n",
              "                                                     [key], {});\n",
              "          if (!dataTable) return;\n",
              "\n",
              "          const docLinkHtml = 'Like what you see? Visit the ' +\n",
              "            '<a target=\"_blank\" href=https://colab.research.google.com/notebooks/data_table.ipynb>data table notebook</a>'\n",
              "            + ' to learn more about interactive tables.';\n",
              "          element.innerHTML = '';\n",
              "          dataTable['output_type'] = 'display_data';\n",
              "          await google.colab.output.renderOutput(dataTable, element);\n",
              "          const docLink = document.createElement('div');\n",
              "          docLink.innerHTML = docLinkHtml;\n",
              "          element.appendChild(docLink);\n",
              "        }\n",
              "      </script>\n",
              "    </div>\n",
              "  </div>\n",
              "  "
            ]
          },
          "metadata": {},
          "execution_count": 87
        }
      ]
    }
  ]
}